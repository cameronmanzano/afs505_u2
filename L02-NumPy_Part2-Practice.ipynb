{
 "cells": [
  {
   "cell_type": "markdown",
   "metadata": {},
   "source": [
    "# Lesson 2 Practice: NumPy Part 2\n",
    "Use this notebook to follow along with the lesson in the corresponding lesson notebook: [L02-Numpy_Part2-Lesson.ipynb](./L02-Numpy_Part2-Lesson.ipynb).  \n"
   ]
  },
  {
   "cell_type": "markdown",
   "metadata": {},
   "source": [
    "## Instructions\n",
    "Follow along with the teaching material in the lesson. Throughout the tutorial sections labeled as \"Tasks\" are interspersed and indicated with the icon: ![Task](http://icons.iconarchive.com/icons/sbstnblnd/plateau/16/Apps-gnome-info-icon.png). You should follow the instructions provided in these sections by performing them in the practice notebook.  When the tutorial is completed you can turn in the final practice notebook. For each task, use the cell below it to write and test your code.  You may add additional cells for any task as needed or desired. "
   ]
  },
  {
   "cell_type": "markdown",
   "metadata": {},
   "source": [
    "## Task 1a: Setup\n",
    "\n",
    "In the practice notebook, import the following packages:\n",
    "+ `numpy` as `np`"
   ]
  },
  {
   "cell_type": "code",
   "execution_count": 2,
   "metadata": {},
   "outputs": [],
   "source": [
    "import numpy as np"
   ]
  },
  {
   "cell_type": "markdown",
   "metadata": {},
   "source": [
    "## Task 2a: Indexing by Subsetting and Slicing\n",
    "\n",
    "In the practice notebook perform the following:\n",
    "\n",
    "1. Create (or re-use) 3 arrays, each containing three dimensions.\n",
    "2. Slice each of these arrays so that:\n",
    "    + One element / number is returned.\n",
    "    + One dimension is returned.\n",
    "    + A subset of a dimension is returned.\n",
    "3. What is the difference between `[x:]` and `[x, ...]`? (hint, try each on high-dimension arrays).\n",
    "    \n",
    "*Exactly what you choose to return is not imporant at this point, the goal of this task is to train you so that if you are given an n-dimension NumPy array, you can write an index or slice that returns a subset of desired positions.*"
   ]
  },
  {
   "cell_type": "code",
   "execution_count": 3,
   "metadata": {},
   "outputs": [
    {
     "name": "stdout",
     "output_type": "stream",
     "text": [
      "[[0.16769024 0.2619063  0.06123584 0.30509254 0.3291454  0.84985687\n",
      "  0.70446124 0.65875985 0.01624607 0.1005038  0.25611762 0.59520369\n",
      "  0.37181285 0.87236541 0.82967442 0.84185797 0.27697271 0.06274779\n",
      "  0.68163528 0.87800224]\n",
      " [0.40045617 0.53259555 0.336971   0.30952766 0.58224026 0.3172483\n",
      "  0.51064698 0.94042404 0.32125856 0.2963942  0.59347394 0.51151039\n",
      "  0.21850262 0.11761566 0.68295166 0.3400191  0.10358953 0.23683103\n",
      "  0.3926701  0.94217197]\n",
      " [0.7875863  0.76093396 0.1136304  0.52314547 0.23806922 0.70950245\n",
      "  0.63317687 0.48773329 0.49514572 0.32103978 0.04191737 0.51744809\n",
      "  0.86071945 0.3928567  0.24818045 0.63720155 0.83524652 0.47195177\n",
      "  0.56014216 0.1945774 ]\n",
      " [0.82058725 0.42083469 0.0819166  0.50730417 0.09818149 0.43784179\n",
      "  0.43550199 0.08299525 0.10789383 0.30748046 0.86109884 0.09586648\n",
      "  0.13005345 0.58184228 0.1465824  0.25139238 0.79180305 0.22733703\n",
      "  0.77886556 0.82720347]\n",
      " [0.22222811 0.77990663 0.96956714 0.05779251 0.9744652  0.89151537\n",
      "  0.4071599  0.98137196 0.22869682 0.50075562 0.65417201 0.40752791\n",
      "  0.25892972 0.81012215 0.29419651 0.19907016 0.11255836 0.00911903\n",
      "  0.00590107 0.75749797]\n",
      " [0.03524846 0.79282953 0.17506873 0.72091857 0.87412118 0.57814227\n",
      "  0.86638272 0.81039563 0.42702633 0.56760653 0.12045549 0.82378442\n",
      "  0.88025401 0.25084457 0.11533664 0.70447395 0.77289248 0.74583058\n",
      "  0.72782516 0.75872958]\n",
      " [0.19101775 0.32996973 0.77583221 0.56308642 0.29289696 0.41511947\n",
      "  0.24149257 0.44616289 0.02680154 0.58734104 0.09546564 0.99150496\n",
      "  0.61327024 0.856295   0.82343667 0.23112888 0.16813438 0.65985237\n",
      "  0.02586737 0.78743625]\n",
      " [0.27142915 0.0304528  0.05211895 0.1002677  0.42796456 0.32415772\n",
      "  0.28822806 0.54950542 0.62841522 0.95406808 0.12253055 0.15312825\n",
      "  0.36844198 0.11089073 0.33897922 0.16404298 0.25139957 0.20487321\n",
      "  0.93391706 0.3668822 ]\n",
      " [0.82906393 0.48934664 0.54521842 0.51182655 0.66643556 0.1685093\n",
      "  0.22310158 0.32565205 0.29173049 0.64919832 0.27028695 0.42800595\n",
      "  0.92230607 0.186132   0.28974136 0.56055488 0.14580072 0.63871844\n",
      "  0.39523676 0.10618811]\n",
      " [0.09172329 0.12741206 0.54224687 0.33614655 0.95752065 0.1981492\n",
      "  0.27387337 0.74199115 0.08712242 0.18594006 0.3356245  0.06969928\n",
      "  0.43387864 0.37934869 0.39463105 0.20575783 0.95770569 0.88513615\n",
      "  0.50344107 0.84317337]]\n"
     ]
    },
    {
     "data": {
      "text/plain": [
       "0.7044739528955756"
      ]
     },
     "execution_count": 3,
     "metadata": {},
     "output_type": "execute_result"
    }
   ],
   "source": [
    "a = np.random.random((10,20))\n",
    "print(a)\n",
    "a[-5,-5]"
   ]
  },
  {
   "cell_type": "markdown",
   "metadata": {},
   "source": [
    "## Task 3a: Boolean Indexing\n",
    "\n",
    "In the practice notebook perform the following:\n",
    "\n",
    "+ Experiment with the following boolean conditionals to generate boolean arrays for indexing:\n",
    "  + Greater than\n",
    "  + Less than\n",
    "  + Equals\n",
    "  + Combine two or more of the above with:\n",
    "      + or `|`\n",
    "      + and `&`\n",
    "\n",
    "You can create arrays or use existing ones"
   ]
  },
  {
   "cell_type": "code",
   "execution_count": 4,
   "metadata": {},
   "outputs": [
    {
     "name": "stdout",
     "output_type": "stream",
     "text": [
      "[[ True  True  True  True  True  True  True  True  True  True  True  True\n",
      "   True  True  True  True  True  True  True  True]\n",
      " [ True  True  True  True  True  True  True  True  True  True  True  True\n",
      "   True  True  True  True  True  True  True  True]\n",
      " [ True  True  True  True  True  True  True  True  True  True  True  True\n",
      "   True  True  True  True  True  True  True  True]\n",
      " [ True  True  True  True  True  True  True  True  True  True  True  True\n",
      "   True  True  True  True  True  True  True  True]\n",
      " [ True  True  True  True  True  True  True  True  True  True  True  True\n",
      "   True  True  True  True  True  True  True  True]\n",
      " [ True  True  True  True  True  True  True  True  True  True  True  True\n",
      "   True  True  True  True  True  True  True  True]\n",
      " [ True  True  True  True  True  True  True  True  True  True  True  True\n",
      "   True  True  True  True  True  True  True  True]\n",
      " [ True  True  True  True  True  True  True  True  True  True  True  True\n",
      "   True  True  True  True  True  True  True  True]\n",
      " [ True  True  True  True  True  True  True  True  True  True  True  True\n",
      "   True  True  True  True  True  True  True  True]\n",
      " [ True  True  True  True  True  True  True  True  True  True  True  True\n",
      "   True  True  True  True  True  True  True  True]]\n",
      "[[False False False False False False False False False False False False\n",
      "  False False False False False False False False]\n",
      " [False False False False False False False False False False False False\n",
      "  False False False False False False False False]\n",
      " [False False False False False False False False False False False False\n",
      "  False False False False False False False False]\n",
      " [False False False False False False False False False False False False\n",
      "  False False False False False False False False]\n",
      " [False False False False False False False False False False False False\n",
      "  False False False False False False False False]\n",
      " [False False False False False False False False False False False False\n",
      "  False False False False False False False False]\n",
      " [False False False False False False False False False False False False\n",
      "  False False False False False False False False]\n",
      " [False False False False False False False False False False False False\n",
      "  False False False False False False False False]\n",
      " [False False False False False False False False False False False False\n",
      "  False False False False False False False False]\n",
      " [False False False False False False False False False False False False\n",
      "  False False False False False False False False]]\n",
      "[[False False False False False False False False False False False False\n",
      "  False False False False False False False False]\n",
      " [False False False False False False False False False False False False\n",
      "  False False False False False False False False]\n",
      " [False False False False False False False False False False False False\n",
      "  False False False False False False False False]\n",
      " [False False False False False False False False False False False False\n",
      "  False False False False False False False False]\n",
      " [False False False False False False False False False False False False\n",
      "  False False False False False False False False]\n",
      " [False False False False False False False False False False False False\n",
      "  False False False False False False False False]\n",
      " [False False False False False False False False False False False False\n",
      "  False False False False False False False False]\n",
      " [False False False False False False False False False False False False\n",
      "  False False False False False False False False]\n",
      " [False False False False False False False False False False False False\n",
      "  False False False False False False False False]\n",
      " [False False False False False False False False False False False False\n",
      "  False False False False False False False False]]\n"
     ]
    },
    {
     "data": {
      "text/plain": [
       "array([0.49861686, 0.24634722, 0.52299394, 0.63270322, 0.83077216,\n",
       "       0.05780844, 0.33904714, 0.06183907, 0.09977638, 0.71313315,\n",
       "       0.43181513, 0.36558973, 0.50407452, 0.71996999, 0.70952026,\n",
       "       0.06043374, 0.62643721, 0.49950899, 0.31709233, 0.8628109 ,\n",
       "       0.00654684, 0.94772662, 0.94086559, 0.60635537, 0.11028546,\n",
       "       0.49417149, 0.91560984, 0.71190542, 0.15954368, 0.44803554,\n",
       "       0.51252503, 0.4524014 , 0.66644423, 0.20701282, 0.50192192,\n",
       "       0.88856323, 0.51436799, 0.01089593, 0.46655454, 0.19203224,\n",
       "       0.99285779, 0.69073756, 0.555804  , 0.74464072, 0.97028026,\n",
       "       0.57516497, 0.52065306, 0.76180753, 0.35098984, 0.34577328,\n",
       "       0.54786988, 0.22928709, 0.64057319, 0.97797133, 0.43808173,\n",
       "       0.74049802, 0.45449741, 0.63507906, 0.72367462, 0.24044581,\n",
       "       0.40722293, 0.68743047, 0.22115847, 0.06670859, 0.3640429 ,\n",
       "       0.7275989 , 0.36572397, 0.25270121, 0.83214947, 0.68693217,\n",
       "       0.0348528 , 0.70481399, 0.27096358, 0.71655409, 0.24403531,\n",
       "       0.57322721, 0.59719143, 0.44384305, 0.78770726, 0.53913689,\n",
       "       0.65042412, 0.78629562, 0.00218031, 0.6014506 , 0.67765533,\n",
       "       0.53555662, 0.3799989 , 0.11381289, 0.86469712, 0.38003342,\n",
       "       0.09495323, 0.49122527, 0.09538784, 0.95763431, 0.56405382,\n",
       "       0.85938677, 0.38255684, 0.93394686, 0.19486005, 0.40681212,\n",
       "       0.70968514, 0.52148496, 0.79202948, 0.23839869, 0.80842249,\n",
       "       0.05572573, 0.629954  , 0.43305803, 0.10150073, 0.10322115,\n",
       "       0.52677309, 0.46016539, 0.76132039, 0.46881405, 0.13061147,\n",
       "       0.94191978, 0.27962514, 0.0967133 , 0.51060603, 0.31303491,\n",
       "       0.85768355, 0.17674209, 0.1740187 , 0.26297128, 0.03645717,\n",
       "       0.66097097, 0.56995743, 0.65129982, 0.96877867, 0.03450499,\n",
       "       0.74734249, 0.33633375, 0.99210052, 0.11913019, 0.72951364,\n",
       "       0.71499679, 0.54149901, 0.07503996, 0.88418197, 0.42973767,\n",
       "       0.56569685, 0.58841254, 0.6046585 , 0.00298403, 0.77496295,\n",
       "       0.7002855 , 0.42662993, 0.68040903, 0.77821988, 0.63750166,\n",
       "       0.46549361, 0.13798181, 0.63532306, 0.85653953, 0.92046795,\n",
       "       0.72959175, 0.97738193, 0.39461755, 0.36184437, 0.90260715,\n",
       "       0.75080485, 0.77770087, 0.01183683, 0.49191314, 0.78093881,\n",
       "       0.12451485, 0.7688797 , 0.42043933, 0.8958221 , 0.47418257,\n",
       "       0.31318382, 0.07525909, 0.31405676, 0.12965138, 0.05938718,\n",
       "       0.30321254, 0.95757551, 0.11581257, 0.53264851, 0.66885399,\n",
       "       0.6421261 , 0.61547716, 0.27851179, 0.0432265 , 0.39372786,\n",
       "       0.00394831, 0.49616281, 0.85999176, 0.95705702, 0.06802375,\n",
       "       0.73460702, 0.38432274, 0.99068566, 0.87784507, 0.25112072,\n",
       "       0.64817115, 0.24051783, 0.0308393 , 0.20629224, 0.39475987])"
      ]
     },
     "execution_count": 4,
     "metadata": {},
     "output_type": "execute_result"
    }
   ],
   "source": [
    "a = np.random.random((10,20))\n",
    "print(a < 1)\n",
    "print(a > 1)\n",
    "print(a == 1)\n",
    "sig_list = a < 1\n",
    "a[sig_list]"
   ]
  },
  {
   "cell_type": "markdown",
   "metadata": {},
   "source": [
    "## Task 4a: Getting Help\n",
    "\n",
    "In the practice notebook perform the following:\n",
    "\n",
    "+ In the code cell below, call `help()` on two of the following functions: `np.transpose()`, `np.reshape()`, `np.resize()`, `np.ravel()`, `np.append()`, `np.delete()`, `np.concatenate()`, `np.vstack()`, `np.hstack()`, `np.column_stack()`, `np.vsplit()`, `np.hsplit()` \n",
    "+ Respond to this question: Did you understand the help docuemntation? Could you use the function just by looking at what the help says about it?  "
   ]
  },
  {
   "cell_type": "code",
   "execution_count": 5,
   "metadata": {},
   "outputs": [
    {
     "name": "stdout",
     "output_type": "stream",
     "text": [
      "Help on function transpose in module numpy.core.fromnumeric:\n",
      "\n",
      "transpose(a, axes=None)\n",
      "    Permute the dimensions of an array.\n",
      "    \n",
      "    Parameters\n",
      "    ----------\n",
      "    a : array_like\n",
      "        Input array.\n",
      "    axes : list of ints, optional\n",
      "        By default, reverse the dimensions, otherwise permute the axes\n",
      "        according to the values given.\n",
      "    \n",
      "    Returns\n",
      "    -------\n",
      "    p : ndarray\n",
      "        `a` with its axes permuted.  A view is returned whenever\n",
      "        possible.\n",
      "    \n",
      "    See Also\n",
      "    --------\n",
      "    moveaxis\n",
      "    argsort\n",
      "    \n",
      "    Notes\n",
      "    -----\n",
      "    Use `transpose(a, argsort(axes))` to invert the transposition of tensors\n",
      "    when using the `axes` keyword argument.\n",
      "    \n",
      "    Transposing a 1-D array returns an unchanged view of the original array.\n",
      "    \n",
      "    Examples\n",
      "    --------\n",
      "    >>> x = np.arange(4).reshape((2,2))\n",
      "    >>> x\n",
      "    array([[0, 1],\n",
      "           [2, 3]])\n",
      "    \n",
      "    >>> np.transpose(x)\n",
      "    array([[0, 2],\n",
      "           [1, 3]])\n",
      "    \n",
      "    >>> x = np.ones((1, 2, 3))\n",
      "    >>> np.transpose(x, (1, 0, 2)).shape\n",
      "    (2, 1, 3)\n",
      "\n",
      "Help on function reshape in module numpy.core.fromnumeric:\n",
      "\n",
      "reshape(a, newshape, order='C')\n",
      "    Gives a new shape to an array without changing its data.\n",
      "    \n",
      "    Parameters\n",
      "    ----------\n",
      "    a : array_like\n",
      "        Array to be reshaped.\n",
      "    newshape : int or tuple of ints\n",
      "        The new shape should be compatible with the original shape. If\n",
      "        an integer, then the result will be a 1-D array of that length.\n",
      "        One shape dimension can be -1. In this case, the value is\n",
      "        inferred from the length of the array and remaining dimensions.\n",
      "    order : {'C', 'F', 'A'}, optional\n",
      "        Read the elements of `a` using this index order, and place the\n",
      "        elements into the reshaped array using this index order.  'C'\n",
      "        means to read / write the elements using C-like index order,\n",
      "        with the last axis index changing fastest, back to the first\n",
      "        axis index changing slowest. 'F' means to read / write the\n",
      "        elements using Fortran-like index order, with the first index\n",
      "        changing fastest, and the last index changing slowest. Note that\n",
      "        the 'C' and 'F' options take no account of the memory layout of\n",
      "        the underlying array, and only refer to the order of indexing.\n",
      "        'A' means to read / write the elements in Fortran-like index\n",
      "        order if `a` is Fortran *contiguous* in memory, C-like order\n",
      "        otherwise.\n",
      "    \n",
      "    Returns\n",
      "    -------\n",
      "    reshaped_array : ndarray\n",
      "        This will be a new view object if possible; otherwise, it will\n",
      "        be a copy.  Note there is no guarantee of the *memory layout* (C- or\n",
      "        Fortran- contiguous) of the returned array.\n",
      "    \n",
      "    See Also\n",
      "    --------\n",
      "    ndarray.reshape : Equivalent method.\n",
      "    \n",
      "    Notes\n",
      "    -----\n",
      "    It is not always possible to change the shape of an array without\n",
      "    copying the data. If you want an error to be raised when the data is copied,\n",
      "    you should assign the new shape to the shape attribute of the array::\n",
      "    \n",
      "     >>> a = np.zeros((10, 2))\n",
      "     # A transpose makes the array non-contiguous\n",
      "     >>> b = a.T\n",
      "     # Taking a view makes it possible to modify the shape without modifying\n",
      "     # the initial object.\n",
      "     >>> c = b.view()\n",
      "     >>> c.shape = (20)\n",
      "     AttributeError: incompatible shape for a non-contiguous array\n",
      "    \n",
      "    The `order` keyword gives the index ordering both for *fetching* the values\n",
      "    from `a`, and then *placing* the values into the output array.\n",
      "    For example, let's say you have an array:\n",
      "    \n",
      "    >>> a = np.arange(6).reshape((3, 2))\n",
      "    >>> a\n",
      "    array([[0, 1],\n",
      "           [2, 3],\n",
      "           [4, 5]])\n",
      "    \n",
      "    You can think of reshaping as first raveling the array (using the given\n",
      "    index order), then inserting the elements from the raveled array into the\n",
      "    new array using the same kind of index ordering as was used for the\n",
      "    raveling.\n",
      "    \n",
      "    >>> np.reshape(a, (2, 3)) # C-like index ordering\n",
      "    array([[0, 1, 2],\n",
      "           [3, 4, 5]])\n",
      "    >>> np.reshape(np.ravel(a), (2, 3)) # equivalent to C ravel then C reshape\n",
      "    array([[0, 1, 2],\n",
      "           [3, 4, 5]])\n",
      "    >>> np.reshape(a, (2, 3), order='F') # Fortran-like index ordering\n",
      "    array([[0, 4, 3],\n",
      "           [2, 1, 5]])\n",
      "    >>> np.reshape(np.ravel(a, order='F'), (2, 3), order='F')\n",
      "    array([[0, 4, 3],\n",
      "           [2, 1, 5]])\n",
      "    \n",
      "    Examples\n",
      "    --------\n",
      "    >>> a = np.array([[1,2,3], [4,5,6]])\n",
      "    >>> np.reshape(a, 6)\n",
      "    array([1, 2, 3, 4, 5, 6])\n",
      "    >>> np.reshape(a, 6, order='F')\n",
      "    array([1, 4, 2, 5, 3, 6])\n",
      "    \n",
      "    >>> np.reshape(a, (3,-1))       # the unspecified value is inferred to be 2\n",
      "    array([[1, 2],\n",
      "           [3, 4],\n",
      "           [5, 6]])\n",
      "\n"
     ]
    },
    {
     "data": {
      "text/plain": [
       "<function print>"
      ]
     },
     "execution_count": 5,
     "metadata": {},
     "output_type": "execute_result"
    }
   ],
   "source": [
    "help(np.transpose)\n",
    "print\n",
    "help(np.reshape)\n",
    "print"
   ]
  },
  {
   "cell_type": "markdown",
   "metadata": {},
   "source": [
    "## Task 5a: Transposing an Array\n",
    "\n",
    "In the practice notebook perform the following:\n",
    "\n",
    "+ Create a matrix of any size and transpose it."
   ]
  },
  {
   "cell_type": "code",
   "execution_count": 6,
   "metadata": {},
   "outputs": [
    {
     "name": "stdout",
     "output_type": "stream",
     "text": [
      "The original matrix\n",
      "[[0.72048135 0.69553257 0.37495301 0.45915399 0.74144057 0.81251411\n",
      "  0.75943982 0.23257076 0.30096446 0.56314652]\n",
      " [0.10132509 0.4710415  0.63239403 0.8142618  0.72751428 0.32303678\n",
      "  0.36241194 0.53810368 0.43244583 0.72637615]\n",
      " [0.62597631 0.56818903 0.97281786 0.57732098 0.49249384 0.58574612\n",
      "  0.19301479 0.92657088 0.30174933 0.7840137 ]\n",
      " [0.92157755 0.55049965 0.31290465 0.69040964 0.55226209 0.89496887\n",
      "  0.20999677 0.44323501 0.86996041 0.38853114]\n",
      " [0.18740899 0.35639929 0.06357266 0.90667347 0.13521741 0.50067464\n",
      "  0.20010202 0.09843516 0.99567474 0.95638822]]\n",
      "\n",
      "The matrix after being tranposed\n",
      "[[0.72048135 0.10132509 0.62597631 0.92157755 0.18740899]\n",
      " [0.69553257 0.4710415  0.56818903 0.55049965 0.35639929]\n",
      " [0.37495301 0.63239403 0.97281786 0.31290465 0.06357266]\n",
      " [0.45915399 0.8142618  0.57732098 0.69040964 0.90667347]\n",
      " [0.74144057 0.72751428 0.49249384 0.55226209 0.13521741]\n",
      " [0.81251411 0.32303678 0.58574612 0.89496887 0.50067464]\n",
      " [0.75943982 0.36241194 0.19301479 0.20999677 0.20010202]\n",
      " [0.23257076 0.53810368 0.92657088 0.44323501 0.09843516]\n",
      " [0.30096446 0.43244583 0.30174933 0.86996041 0.99567474]\n",
      " [0.56314652 0.72637615 0.7840137  0.38853114 0.95638822]]\n",
      "\n",
      "The tranposed matrix from the T attribute\n",
      "[[0.72048135 0.10132509 0.62597631 0.92157755 0.18740899]\n",
      " [0.69553257 0.4710415  0.56818903 0.55049965 0.35639929]\n",
      " [0.37495301 0.63239403 0.97281786 0.31290465 0.06357266]\n",
      " [0.45915399 0.8142618  0.57732098 0.69040964 0.90667347]\n",
      " [0.74144057 0.72751428 0.49249384 0.55226209 0.13521741]\n",
      " [0.81251411 0.32303678 0.58574612 0.89496887 0.50067464]\n",
      " [0.75943982 0.36241194 0.19301479 0.20999677 0.20010202]\n",
      " [0.23257076 0.53810368 0.92657088 0.44323501 0.09843516]\n",
      " [0.30096446 0.43244583 0.30174933 0.86996041 0.99567474]\n",
      " [0.56314652 0.72637615 0.7840137  0.38853114 0.95638822]]\n"
     ]
    }
   ],
   "source": [
    "a = np.random.random((5,10))\n",
    "\n",
    "print(\"The original matrix\")\n",
    "print(a)\n",
    "\n",
    "print(\"\\nThe matrix after being tranposed\")\n",
    "print(np.transpose(a))\n",
    "\n",
    "print(\"\\nThe tranposed matrix from the T attribute\")\n",
    "print(a.T)"
   ]
  },
  {
   "cell_type": "markdown",
   "metadata": {},
   "source": [
    "## Task 5b: Reshaping an Array\n",
    "\n",
    "In the practice notebook peform the following:\n",
    "\n",
    "+ Create a matrix and resize it by adding 2 extra columns\n",
    "+ Create a matrix and resize it by adding 1 extra row\n",
    "+ Create a matrix of 8 x 2 and resize it to 4 x 4"
   ]
  },
  {
   "cell_type": "code",
   "execution_count": 22,
   "metadata": {},
   "outputs": [
    {
     "name": "stdout",
     "output_type": "stream",
     "text": [
      "(8, 2)\n"
     ]
    },
    {
     "data": {
      "text/plain": [
       "array([[1., 1., 1., 1.],\n",
       "       [1., 1., 1., 1.],\n",
       "       [1., 1., 1., 1.],\n",
       "       [1., 1., 1., 1.]])"
      ]
     },
     "execution_count": 22,
     "metadata": {},
     "output_type": "execute_result"
    }
   ],
   "source": [
    "a = np.ones((8,2))\n",
    "print(a.shape)\n",
    "\n",
    "np.resize(a, (4,4))"
   ]
  },
  {
   "cell_type": "markdown",
   "metadata": {},
   "source": [
    "## Task 5c: Appending to an Array\n",
    "\n",
    "In the practice notebook perform the following:\n",
    "\n",
    " + Create a three dimensional array and append another row to the array\n",
    " + Append another colum to the array\n",
    " + Print the final results"
   ]
  },
  {
   "cell_type": "code",
   "execution_count": 23,
   "metadata": {},
   "outputs": [
    {
     "name": "stdout",
     "output_type": "stream",
     "text": [
      "[ 1  2  3  4  5  6  7  8  9 10 11 12 13 14 15]\n"
     ]
    }
   ],
   "source": [
    "# Append a 1D array to your `my_array`\n",
    "my_array = np.array([[[1,2,3], [4,5,6]], [[7,8,9], [10,11,12]]])\n",
    "new_array = np.append(my_array, [13,14,15])\n",
    "\n",
    "# Print `new_array`\n",
    "print(new_array)"
   ]
  },
  {
   "cell_type": "markdown",
   "metadata": {},
   "source": [
    "## Task 5d: Inserting and Deleting Elements\n",
    "\n",
    "In the practice notebook perform the following:\n",
    "\n",
    "+ Examine the `help()` documentation for how to use the `insert()` and `delete()` functions.\n",
    "+ Create a matrix and practice inserting a row and deleting a column."
   ]
  },
  {
   "cell_type": "code",
   "execution_count": null,
   "metadata": {},
   "outputs": [],
   "source": [
    "a = np.array([[1,2,3,4], [5,6,7,8]])\n",
    "print(a)\n",
    "insert(np.array)\n",
    "delete(np.array)"
   ]
  },
  {
   "cell_type": "markdown",
   "metadata": {},
   "source": [
    "## Task 5e: Joining Arrays\n",
    "\n",
    "In the practice notebook perform the following:\n",
    "\n",
    "+ Execute the code (in the cell below).\n",
    "+ Examine the output from each of the function calls in the cell above. If needed to understand, review the help pages for each tool either using the `help()` command or the [Numpy Function Reference](https://docs.scipy.org/doc/numpy/reference/routines.html). \n",
    "+ Respond to the following question and respond in the second cell below.\n",
    "  + Can you identify what is happening with each of them?"
   ]
  },
  {
   "cell_type": "code",
   "execution_count": 29,
   "metadata": {},
   "outputs": [
    {
     "name": "stdout",
     "output_type": "stream",
     "text": [
      "concatenate:\n",
      "[1 2 3 4 1 1 1 1]\n",
      "\n",
      "vstack:\n",
      "[[1 2 3 4]\n",
      " [1 2 3 4]\n",
      " [5 6 7 8]]\n",
      "\n",
      "hstack:\n",
      "[[1 2 3 4 1 2 3 4]\n",
      " [5 6 7 8 5 6 7 8]]\n",
      "\n",
      "column_stack:\n",
      "[[1 2 3 4 1 2 3 4]\n",
      " [5 6 7 8 5 6 7 8]]\n"
     ]
    }
   ],
   "source": [
    "# Concatentate `my_array` and `x`: similar to np.append()\n",
    "my_array = np.array([1,2,3,4])\n",
    "x = np.array([1,1,1,1])\n",
    "print(\"concatenate:\")\n",
    "print(np.concatenate((my_array, x)))\n",
    "\n",
    "# Stack arrays row-wise\n",
    "my_2d_array = np.array([[1,2,3,4], [5,6,7,8]])\n",
    "print(\"\\nvstack:\")\n",
    "print(np.vstack((my_array, my_2d_array)))\n",
    "\n",
    "# Stack arrays horizontally\n",
    "print(\"\\nhstack:\")\n",
    "print(np.hstack((my_2d_array, my_2d_array)))\n",
    "\n",
    "# Stack arrays column-wise\n",
    "print(\"\\ncolumn_stack:\")\n",
    "print(np.column_stack((my_2d_array, my_2d_array)))"
   ]
  },
  {
   "cell_type": "raw",
   "metadata": {},
   "source": [
    "# Matrices change from (1 x 8) to (3 X 4) to (2 x 8)."
   ]
  },
  {
   "cell_type": "markdown",
   "metadata": {},
   "source": [
    "## Task 5d: Splitting Arrays\n",
    "\n",
    "In the practice notebook perform the following:\n",
    "\n",
    "+ Execute the code (as shown below).\n",
    "+ Examine the output from each of the function calls in the cell above. If needed to understand, review the help pages for each tool either using the `help()` command or the [Numpy Function Reference](https://docs.scipy.org/doc/numpy/reference/routines.html). \n",
    "+ Respond to the following question and respond in the second cell below.\n",
    "  + Can you identify what is happening with each of them?"
   ]
  },
  {
   "cell_type": "code",
   "execution_count": 30,
   "metadata": {},
   "outputs": [
    {
     "name": "stdout",
     "output_type": "stream",
     "text": [
      "original:\n",
      "[[1 2 3 4]\n",
      " [5 6 7 8]]\n",
      "\n",
      "hsplit:\n",
      "[array([[1, 2],\n",
      "       [5, 6]]), array([[3, 4],\n",
      "       [7, 8]])]\n",
      "\n",
      "vsplit:\n",
      "[array([[1, 2, 3, 4]]), array([[5, 6, 7, 8]])]\n"
     ]
    }
   ],
   "source": [
    "# Create a 2D array.\n",
    "my_2d_array = np.array([[1,2,3,4], [5,6,7,8]])\n",
    "print(\"original:\")\n",
    "print(my_2d_array)\n",
    "\n",
    "# Split `my_stacked_array` horizontally at the 2nd index\n",
    "print(\"\\nhsplit:\")\n",
    "print(np.hsplit(my_2d_array, 2))\n",
    "\n",
    "# Split `my_stacked_array` vertically at the 2nd index\n",
    "print(\"\\nvsplit:\")\n",
    "print(np.vsplit(my_2d_array, 2))"
   ]
  },
  {
   "cell_type": "raw",
   "metadata": {},
   "source": [
    "# Matrices are split when dealing with hsplit and vsplit."
   ]
  }
 ],
 "metadata": {
  "kernelspec": {
   "display_name": "Python 3",
   "language": "python",
   "name": "python3"
  },
  "language_info": {
   "codemirror_mode": {
    "name": "ipython",
    "version": 3
   },
   "file_extension": ".py",
   "mimetype": "text/x-python",
   "name": "python",
   "nbconvert_exporter": "python",
   "pygments_lexer": "ipython3",
   "version": "3.6.4"
  }
 },
 "nbformat": 4,
 "nbformat_minor": 4
}
