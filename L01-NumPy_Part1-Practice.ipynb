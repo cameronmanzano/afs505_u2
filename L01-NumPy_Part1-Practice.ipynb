{
 "cells": [
  {
   "cell_type": "markdown",
   "metadata": {},
   "source": [
    "# Lesson 1 Practice: NumPy Part 1\n",
    "Use this notebook to follow along with the lesson in the corresponding lesson notebook: [L01-Numpy_Part1-Lesson.ipynb](./L01-Numpy_Part1-Lesson.ipynb).  \n",
    "\n"
   ]
  },
  {
   "cell_type": "markdown",
   "metadata": {},
   "source": [
    "## Instructions\n",
    "Follow along with the teaching material in the lesson. Throughout the tutorial sections labeled as \"Tasks\" are interspersed and indicated with the icon: ![Task](http://icons.iconarchive.com/icons/sbstnblnd/plateau/16/Apps-gnome-info-icon.png). You should follow the instructions provided in these sections by performing them in the practice notebook.  When the tutorial is completed you can turn in the final practice notebook. For each task, use the cell below it to write and test your code.  You may add additional cells for any task as needed or desired.  "
   ]
  },
  {
   "cell_type": "markdown",
   "metadata": {},
   "source": [
    "## Task 1a: Setup\n",
    "\n",
    "In the practice notebook, import the following packages:\n",
    "+ `numpy` as `np`"
   ]
  },
  {
   "cell_type": "code",
   "execution_count": 2,
   "metadata": {},
   "outputs": [],
   "source": [
    "import numpy as np"
   ]
  },
  {
   "cell_type": "markdown",
   "metadata": {},
   "source": [
    "## Task 2a: Creating Arrays\n",
    "\n",
    "In the practice notebook, perform the following.  \n",
    "- Create a 1-dimensional numpy array and print it.\n",
    "- Create a 2-dimensional numpy array and print it.\n",
    "- Create a 3-dimensional numpy array and print it."
   ]
  },
  {
   "cell_type": "code",
   "execution_count": 3,
   "metadata": {},
   "outputs": [
    {
     "name": "stdout",
     "output_type": "stream",
     "text": [
      "[10 20 30 40]\n",
      "[[10 20 30 40]\n",
      " [50 60 70 80]]\n",
      "[[[ 10  20  30  40]\n",
      "  [ 50  60  70  80]]\n",
      "\n",
      " [[ 10  20  30  40]\n",
      "  [ 90 100 110 120]]]\n"
     ]
    }
   ],
   "source": [
    "my_array = np.array([10,20,30,40])\n",
    "my_2d_array = np.array([[10,20,30,40],[50,60,70,80]])\n",
    "my_3d_array = np.array([[[10,20,30,40], [50,60,70,80]], [[10,20,30,40], [90,100,110,120]]])\n",
    "print(my_array)\n",
    "print(my_2d_array)\n",
    "print(my_3d_array)"
   ]
  },
  {
   "cell_type": "markdown",
   "metadata": {},
   "source": [
    "## Task 3a: Accessing Array Attributes\n",
    "\n",
    "In the practice notebook, perform the following.\n",
    "\n",
    "- Create a NumPy array.\n",
    "- Write code that prints these attributes (one per line): `ndim`, `shape`, `size`, `dtype`, `itemsize`, `data`, `nbytes`.\n",
    "- Add a comment line, before each line describing what value the attribute returns. \n"
   ]
  },
  {
   "cell_type": "code",
   "execution_count": 5,
   "metadata": {},
   "outputs": [
    {
     "name": "stdout",
     "output_type": "stream",
     "text": [
      "1\n",
      "(5,)\n",
      "5\n",
      "int64\n",
      "8\n",
      "<memory at 0x1095a4c48>\n",
      "40\n"
     ]
    }
   ],
   "source": [
    "my_array = np.array([10,20,30,40,50])\n",
    "# 1\n",
    "print(my_array.ndim)\n",
    "# (5,)\n",
    "print(my_array.shape)\n",
    "# 5\n",
    "print(my_array.size)\n",
    "# int64\n",
    "print(my_array.dtype)\n",
    "# 8\n",
    "print(my_array.itemsize)\n",
    "# <memory at 0x1095a4c48>\n",
    "print(my_array.data)\n",
    "# 40\n",
    "print(my_array.nbytes)"
   ]
  },
  {
   "cell_type": "markdown",
   "metadata": {},
   "source": [
    "## Task 4a: Initializing Arrays\n",
    "\n",
    "In the practice notebook, perform the following.\n",
    "\n",
    "+ Create an initialized array by using these functions:  `ones`, `zeros`, `empty`, `full`, `arange`, `linspace` and `random.random`. Be sure to follow each array creation with a call to `print()` to display your newly created arrays. \n",
    "+ Add a comment above each function call describing what is being done.  "
   ]
  },
  {
   "cell_type": "code",
   "execution_count": 6,
   "metadata": {},
   "outputs": [
    {
     "name": "stdout",
     "output_type": "stream",
     "text": [
      "[[1. 1. 1. 1. 1. 1. 1. 1. 1. 1.]\n",
      " [1. 1. 1. 1. 1. 1. 1. 1. 1. 1.]\n",
      " [1. 1. 1. 1. 1. 1. 1. 1. 1. 1.]\n",
      " [1. 1. 1. 1. 1. 1. 1. 1. 1. 1.]\n",
      " [1. 1. 1. 1. 1. 1. 1. 1. 1. 1.]]\n",
      "[[0. 0. 0. 0. 0. 0. 0. 0. 0. 0.]\n",
      " [0. 0. 0. 0. 0. 0. 0. 0. 0. 0.]\n",
      " [0. 0. 0. 0. 0. 0. 0. 0. 0. 0.]\n",
      " [0. 0. 0. 0. 0. 0. 0. 0. 0. 0.]\n",
      " [0. 0. 0. 0. 0. 0. 0. 0. 0. 0.]]\n",
      "[[0. 0. 0. 0. 0. 0. 0. 0. 0. 0.]\n",
      " [0. 0. 0. 0. 0. 0. 0. 0. 0. 0.]\n",
      " [0. 0. 0. 0. 0. 0. 0. 0. 0. 0.]\n",
      " [0. 0. 0. 0. 0. 0. 0. 0. 0. 0.]\n",
      " [0. 0. 0. 0. 0. 0. 0. 0. 0. 0.]]\n",
      "[[10 10 10 10 10 10 10 10 10 10]\n",
      " [10 10 10 10 10 10 10 10 10 10]\n",
      " [10 10 10 10 10 10 10 10 10 10]\n",
      " [10 10 10 10 10 10 10 10 10 10]\n",
      " [10 10 10 10 10 10 10 10 10 10]]\n",
      "[ 0  5 10 15]\n",
      "[ 0.  5. 10. 15. 20.]\n",
      "[[0.48025323 0.45881563 0.54812317 0.1980102  0.28629162 0.95686851\n",
      "  0.6385498  0.59936603 0.89493606 0.57949473]\n",
      " [0.34037513 0.08618562 0.27291363 0.64833898 0.79904701 0.39444345\n",
      "  0.33439001 0.08346038 0.15174972 0.22845531]\n",
      " [0.33797654 0.53041441 0.69816298 0.11185607 0.53811624 0.08226616\n",
      "  0.99225483 0.99017665 0.66242809 0.19294837]\n",
      " [0.06383402 0.87133574 0.27871964 0.69723133 0.18860297 0.04150628\n",
      "  0.2009891  0.50743258 0.29037497 0.99798262]\n",
      " [0.33778706 0.7705662  0.09473601 0.52366803 0.60642663 0.37992141\n",
      "  0.62053664 0.6250963  0.20004487 0.58100479]]\n"
     ]
    }
   ],
   "source": [
    "# ones are filled\n",
    "ones = np.ones((5,10))\n",
    "print(ones)\n",
    "# zeros are filled\n",
    "zeros = np.zeros((5,10))\n",
    "print(zeros)\n",
    "# zeros are filled\n",
    "empty = np.empty((5,10))\n",
    "print(empty)\n",
    "# tens are filled\n",
    "full = np.full((5,10), 10)\n",
    "print(full)\n",
    "# 5 numbers by 5 from 0 - 20\n",
    "arange = np.arange(0, 20, 5)\n",
    "print(arange)\n",
    "# 5 numbers by 5 from 0 - 20\n",
    "linspace = np.linspace(0,20,num=5)\n",
    "print(linspace)\n",
    "# random assortment of numbers with 5 rows and 10 columns\n",
    "random = np.random.random((5,10))\n",
    "print(random)"
   ]
  },
  {
   "cell_type": "markdown",
   "metadata": {},
   "source": [
    "## Task 5a:  Broadcasting Arrays\n",
    "\n",
    "In the practice notebook, perform the following.\n",
    "\n",
    "+ Create two arrays of differing sizes but compatible with broadcasting.\n",
    "+ Perform addition, multiplication and subtraction.\n",
    "+ Create two additional arrays of differing size that do not meet the rules for broadcasting and try a mathematical operation.  "
   ]
  },
  {
   "cell_type": "code",
   "execution_count": 7,
   "metadata": {},
   "outputs": [
    {
     "name": "stdout",
     "output_type": "stream",
     "text": [
      "a: [[1. 1. 1. 1. 1. 1. 1. 1. 1. 1.]\n",
      " [1. 1. 1. 1. 1. 1. 1. 1. 1. 1.]\n",
      " [1. 1. 1. 1. 1. 1. 1. 1. 1. 1.]\n",
      " [1. 1. 1. 1. 1. 1. 1. 1. 1. 1.]\n",
      " [1. 1. 1. 1. 1. 1. 1. 1. 1. 1.]]\n",
      "b: [0 1 2 3 4 5 6 7 8 9]\n",
      "[[1. 1. 1. 1. 1. 1. 1. 1. 1. 1.]\n",
      " [1. 1. 1. 1. 1. 1. 1. 1. 1. 1.]\n",
      " [1. 1. 1. 1. 1. 1. 1. 1. 1. 1.]\n",
      " [1. 1. 1. 1. 1. 1. 1. 1. 1. 1.]\n",
      " [1. 1. 1. 1. 1. 1. 1. 1. 1. 1.]]\n",
      "[0 1 2 3 4 5 6 7 8 9]\n",
      "[[ 1.  2.  3.  4.  5.  6.  7.  8.  9. 10.]\n",
      " [ 1.  2.  3.  4.  5.  6.  7.  8.  9. 10.]\n",
      " [ 1.  2.  3.  4.  5.  6.  7.  8.  9. 10.]\n",
      " [ 1.  2.  3.  4.  5.  6.  7.  8.  9. 10.]\n",
      " [ 1.  2.  3.  4.  5.  6.  7.  8.  9. 10.]]\n",
      "[[0. 1. 2. 3. 4. 5. 6. 7. 8. 9.]\n",
      " [0. 1. 2. 3. 4. 5. 6. 7. 8. 9.]\n",
      " [0. 1. 2. 3. 4. 5. 6. 7. 8. 9.]\n",
      " [0. 1. 2. 3. 4. 5. 6. 7. 8. 9.]\n",
      " [0. 1. 2. 3. 4. 5. 6. 7. 8. 9.]]\n",
      "[[ 1.  0. -1. -2. -3. -4. -5. -6. -7. -8.]\n",
      " [ 1.  0. -1. -2. -3. -4. -5. -6. -7. -8.]\n",
      " [ 1.  0. -1. -2. -3. -4. -5. -6. -7. -8.]\n",
      " [ 1.  0. -1. -2. -3. -4. -5. -6. -7. -8.]\n",
      " [ 1.  0. -1. -2. -3. -4. -5. -6. -7. -8.]]\n"
     ]
    }
   ],
   "source": [
    "a = np.ones((5,10))\n",
    "b = np.arange(10)\n",
    "print(f\"a: {a}\")\n",
    "print(f\"b: {b}\")\n",
    "print(a)\n",
    "print(b)\n",
    "print(a + b)\n",
    "print(a * b)\n",
    "print(a - b)"
   ]
  },
  {
   "cell_type": "markdown",
   "metadata": {},
   "source": [
    "## Task 6a: Math/Stats Aggregate Functions\n",
    "\n",
    "In the practice notebook, perform the following.\n",
    "\n",
    "+ Create three to five arrays\n",
    "+ Experiment with each of the aggregation functions: `sum`, `minimum`, `maximum`, `cumsum`, `mean`, `np.corrcoef`, `np.std`, `np.var`. \n",
    "+ For each function call, add a comment line above it that describes what it does.  \n",
    "```\n"
   ]
  },
  {
   "cell_type": "code",
   "execution_count": 8,
   "metadata": {},
   "outputs": [
    {
     "name": "stdout",
     "output_type": "stream",
     "text": [
      "100\n",
      "[10 20 30 40]\n",
      "[50 60 70 80]\n",
      "[ 10  30  60 100]\n",
      "25.0\n",
      "1.0\n",
      "11.180339887498949\n",
      "125.0\n"
     ]
    }
   ],
   "source": [
    "a = np.array([10,20,30,40])\n",
    "b = np.array([50,60,70,80])\n",
    "c = np.array([90,100,110,120])\n",
    "# sum of numbers in a\n",
    "s = np.sum(a)\n",
    "print(s)\n",
    "# minimum of array of a and b\n",
    "minimum = np.minimum(a,b)\n",
    "print(minimum)\n",
    "# maximum of array of a and b\n",
    "maximum = np.maximum(a,b)\n",
    "print(maximum)\n",
    "# goes up by n + 10\n",
    "cu = np.cumsum(a)\n",
    "print(cu)\n",
    "# mean of numbers in a\n",
    "me = np.mean(a)\n",
    "print(me)\n",
    "# cofficient of a\n",
    "corr = np.corrcoef(a)\n",
    "print(corr)\n",
    "# standard deviation of a\n",
    "std = np.std(a)\n",
    "print(std)\n",
    "# variance of a\n",
    "var = np.var(a)\n",
    "print(var)"
   ]
  },
  {
   "cell_type": "markdown",
   "metadata": {},
   "source": [
    "## Task 6b: Logical Aggregate Functions\n",
    "\n",
    "In the practice notebook, perform the following.\n",
    "\n",
    "+ Create two arrays containing boolean values.\n",
    "+ Experiment with each of the aggregation functions: `logical_and`, `logical_or`, `logical_not`. \n",
    "+ For each function call, add a comment line above it that describes what it does.  \n",
    "```"
   ]
  },
  {
   "cell_type": "code",
   "execution_count": 9,
   "metadata": {},
   "outputs": [
    {
     "name": "stdout",
     "output_type": "stream",
     "text": [
      "[False False False False]\n",
      "[ True  True  True  True]\n",
      "[False False  True  True]\n"
     ]
    }
   ],
   "source": [
    "a = [True, True, False, False]\n",
    "b = [False, False, True, True]\n",
    "# all False\n",
    "c = np.logical_and(a,b)\n",
    "print(c)\n",
    "# all True\n",
    "d = np.logical_or(a,b)\n",
    "print(d)\n",
    "# half False and half True\n",
    "e = np.logical_not(a)\n",
    "print(e)"
   ]
  },
  {
   "cell_type": "code",
   "execution_count": null,
   "metadata": {},
   "outputs": [],
   "source": []
  }
 ],
 "metadata": {
  "kernelspec": {
   "display_name": "Python 3",
   "language": "python",
   "name": "python3"
  },
  "language_info": {
   "codemirror_mode": {
    "name": "ipython",
    "version": 3
   },
   "file_extension": ".py",
   "mimetype": "text/x-python",
   "name": "python",
   "nbconvert_exporter": "python",
   "pygments_lexer": "ipython3",
   "version": "3.6.4"
  }
 },
 "nbformat": 4,
 "nbformat_minor": 4
}
